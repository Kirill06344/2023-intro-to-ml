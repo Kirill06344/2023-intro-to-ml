{
 "cells": [
  {
   "cell_type": "markdown",
   "id": "928e29d0-74bf-4adc-9190-7fc175256f26",
   "metadata": {},
   "source": [
    "# Введение в машинное обучение для Java-разработчиков\n",
    "### Практическое задание 3. Нейронные сети.\n",
    "### Дата выдачи: 2.11.2023\n",
    "\n",
    "### Дедлайн: 23:59MSK 23.11.2023\n",
    "\n",
    "## О задании\n",
    "В этом задании мы попытаемся разобраться в устройстве двухслойной нейронной сети.\n",
    "\n",
    "## Оценивание и штрафы\n",
    "См. оценки в следующей ячейке\n",
    "\n",
    "Задание выполняется самостоятельно. «Похожие» решения считаются плагиатом и все задействованные студенты (в том числе те, у кого списали) не могут получить за него больше 0 баллов, что автоматически ведет к несдаче курса. Если вы нашли решение какого-то из заданий (или его часть) в открытом источнике, необходимо указать ссылку на этот источник в комментариях. \n",
    "В данном задании есть необязательные бонусные задания, выполнение которых добавляет баллы в карму :)\n",
    "\n",
    "## Формат сдачи\n",
    "Задания сдаются путем форка основного репозитория, коммита решения в мастер-ветку вашего форка и оповещении преподавателя о выполнении ДЗ. "
   ]
  },
  {
   "cell_type": "markdown",
   "id": "7baea62d-018e-48c0-bc80-1de460f4472d",
   "metadata": {},
   "source": [
    "## Часть 1. Двухслойная нейронная сеть для задачи бинарной классификации.\n",
    "\n",
    "На первом слое используюйте функцию активации ReLU, на выходном - sigmoid\n",
    "\n",
    "##### На оценку \"удовлетворительно\" необходимо реализовать следующие функции:\n",
    "\n",
    "- [task] - функция активации ReLU\n",
    "- [task] - функция активации Sigmoid\n",
    "- [task] - функция бинарной кросс-энтропи\n",
    "\n",
    "  \n",
    "#####  На оценку \"хорошо\" необходимо реализовать следующие функции:\n",
    "- [task] - реализуйте функцию прямого прохода сети\n",
    "\n",
    "#####  На оценку \"отлично\" необходимо реализовать следующие функции:\n",
    " - [task] - реализуйте функцию обратного прохода сети. Необходимо реализовать расчет градиентов для всех весов (легче всего это сделать в матричной форме), используя свойства расчета производной от сложной функции.\n",
    " - [task] - реализуйте обучение нейронной сети. Сделайте цикл по \"эпохам\", а рамках эпохи перебирайте последовательно все объекты обучающей выборки. Далее на каждом объекте считайте функцию потерь и градиенты."
   ]
  },
  {
   "cell_type": "code",
   "execution_count": 11,
   "id": "b5cf154b-80bc-4dc4-9580-edfd099ea98b",
   "metadata": {},
   "outputs": [],
   "source": [
    "import numpy as np\n",
    "\n",
    "class TwoLayerNeuralNetwork:\n",
    "    def __init__(self, input_size=2, hidden_size=2, output_size=1):\n",
    "        self.input_size = input_size\n",
    "        self.hidden_size = hidden_size\n",
    "        self.output_size = output_size\n",
    "\n",
    "        self.W1 = np.random.randn(input_size, hidden_size)\n",
    "        self.b1 = np.zeros(hidden_size)\n",
    "        self.W2 = np.random.randn(hidden_size, output_size)\n",
    "        self.b2 = np.zeros(output_size)\n",
    "\n",
    "    def ReLU(x):\n",
    "        return np.maximum(0, x)\n",
    "\n",
    "    def sigmoid(self, x):\n",
    "        return 1 / (1 + np.exp(-x))\n",
    "\n",
    "    def binary_cross_entropy_loss(self, y_true, y_pred):\n",
    "         return -np.mean(y_true * np.log(y_pred) + (1 - y_true) * np.log(1 - y_pred))\n",
    "    \n",
    "    def forward(self, X):\n",
    "\n",
    "    # Forward pass through the first layer\n",
    "        self.z1 = np.dot(X, self.W1) + self.b1\n",
    "        self.a1 = self.ReLU(self.z1)\n",
    "        # Forward pass through the second layer\n",
    "    \n",
    "        self.z2 = np.dot(self.a1, self.W2) + self.b2\n",
    "        self.a2 = self.sigmoid(self.z2)\n",
    "        return self.a2\n",
    "\n",
    "\n",
    "    def backward(self, X, y, learning_rate=0.1):\n",
    "    \n",
    "        # Backward pass through the second layer\n",
    "    \n",
    "        da2 = -y / self.a2 + (1 - y) / (1 - self.a2)\n",
    "        dW2 = np.dot(self.a1.T, da2) / X.shape[0]\n",
    "        db2 = np.sum(da2, axis=0) / X.shape[0]\n",
    "    \n",
    "    \n",
    "        # Backward pass through the first layer\n",
    "        da1 = np.dot(da2, self.W2.T) * (self.a1 > 0)\n",
    "        dW1 = np.dot(X.T, da1) / X.shape[0]\n",
    "        db1 = np.sum(da1, axis=0) / X.shape[0]\n",
    "    \n",
    "    \n",
    "        # Update the parameters\n",
    "    \n",
    "        self.W1 -= learning_rate * dW1\n",
    "        self.b1 -= learning_rate * db1\n",
    "        self.W2 -= learning_rate * dW2\n",
    "        self.b2 -= learning_rate * db2\n",
    "    \n",
    "    \n",
    "    def fit(self, X, y, num_epochs=100, learning_rate=0.1):\n",
    "        for _ in range(num_epochs):\n",
    "            self.forward(X)\n",
    "            self.backward(X, y, learning_rate)"
   ]
  },
  {
   "cell_type": "markdown",
   "id": "19c88aef-5c5c-472a-b59f-97ebefa1c9fa",
   "metadata": {},
   "source": [
    "## Часть 2. Двухслойная нейронная сеть \n",
    "\n",
    "Попробуйте обучить реализацию вашей сети на небольшом синтетическом датасете."
   ]
  },
  {
   "cell_type": "code",
   "execution_count": 12,
   "id": "de39f26c-289c-4028-a0e1-de0275780ddc",
   "metadata": {},
   "outputs": [
    {
     "data": {
      "image/png": "[encoded data removed]",
      "text/plain": [
       "<Figure size 432x288 with 1 Axes>"
      ]
     },
     "metadata": {
      "needs_background": "light"
     },
     "output_type": "display_data"
    },
    {
     "ename": "TypeError",
     "evalue": "ReLU() takes 1 positional argument but 2 were given",
     "output_type": "error",
     "traceback": [
      "\u001b[0;31m---------------------------------------------------------------------------\u001b[0m",
      "\u001b[0;31mTypeError\u001b[0m                                 Traceback (most recent call last)",
      "Cell \u001b[0;32mIn[12], line 17\u001b[0m\n\u001b[1;32m     15\u001b[0m model \u001b[38;5;241m=\u001b[39m TwoLayerNeuralNetwork(\u001b[38;5;241m2\u001b[39m, \u001b[38;5;241m5\u001b[39m, \u001b[38;5;241m1\u001b[39m)\n\u001b[1;32m     16\u001b[0m \u001b[38;5;66;03m# Train the neural network\u001b[39;00m\n\u001b[0;32m---> 17\u001b[0m \u001b[43mmodel\u001b[49m\u001b[38;5;241;43m.\u001b[39;49m\u001b[43mfit\u001b[49m\u001b[43m(\u001b[49m\u001b[43mX_train\u001b[49m\u001b[43m,\u001b[49m\u001b[43m \u001b[49m\u001b[43my_train\u001b[49m\u001b[43m,\u001b[49m\u001b[43m \u001b[49m\u001b[43mnum_epochs\u001b[49m\u001b[38;5;241;43m=\u001b[39;49m\u001b[38;5;241;43m1000\u001b[39;49m\u001b[43m,\u001b[49m\u001b[43m \u001b[49m\u001b[43mlearning_rate\u001b[49m\u001b[38;5;241;43m=\u001b[39;49m\u001b[38;5;241;43m0.1\u001b[39;49m\u001b[43m)\u001b[49m\n\u001b[1;32m     19\u001b[0m \u001b[38;5;66;03m# Make predictions on the test set\u001b[39;00m\n\u001b[1;32m     20\u001b[0m y_pred \u001b[38;5;241m=\u001b[39m np\u001b[38;5;241m.\u001b[39mround(model\u001b[38;5;241m.\u001b[39mforward(X_test))\n",
      "Cell \u001b[0;32mIn[11], line 60\u001b[0m, in \u001b[0;36mTwoLayerNeuralNetwork.fit\u001b[0;34m(self, X, y, num_epochs, learning_rate)\u001b[0m\n\u001b[1;32m     58\u001b[0m \u001b[38;5;28;01mdef\u001b[39;00m \u001b[38;5;21mfit\u001b[39m(\u001b[38;5;28mself\u001b[39m, X, y, num_epochs\u001b[38;5;241m=\u001b[39m\u001b[38;5;241m100\u001b[39m, learning_rate\u001b[38;5;241m=\u001b[39m\u001b[38;5;241m0.1\u001b[39m):\n\u001b[1;32m     59\u001b[0m     \u001b[38;5;28;01mfor\u001b[39;00m _ \u001b[38;5;129;01min\u001b[39;00m \u001b[38;5;28mrange\u001b[39m(num_epochs):\n\u001b[0;32m---> 60\u001b[0m         \u001b[38;5;28;43mself\u001b[39;49m\u001b[38;5;241;43m.\u001b[39;49m\u001b[43mforward\u001b[49m\u001b[43m(\u001b[49m\u001b[43mX\u001b[49m\u001b[43m)\u001b[49m\n\u001b[1;32m     61\u001b[0m         \u001b[38;5;28mself\u001b[39m\u001b[38;5;241m.\u001b[39mbackward(X, y, learning_rate)\n",
      "Cell \u001b[0;32mIn[11], line 27\u001b[0m, in \u001b[0;36mTwoLayerNeuralNetwork.forward\u001b[0;34m(self, X)\u001b[0m\n\u001b[1;32m     23\u001b[0m \u001b[38;5;28;01mdef\u001b[39;00m \u001b[38;5;21mforward\u001b[39m(\u001b[38;5;28mself\u001b[39m, X):\n\u001b[1;32m     24\u001b[0m \n\u001b[1;32m     25\u001b[0m \u001b[38;5;66;03m# Forward pass through the first layer\u001b[39;00m\n\u001b[1;32m     26\u001b[0m     \u001b[38;5;28mself\u001b[39m\u001b[38;5;241m.\u001b[39mz1 \u001b[38;5;241m=\u001b[39m np\u001b[38;5;241m.\u001b[39mdot(X, \u001b[38;5;28mself\u001b[39m\u001b[38;5;241m.\u001b[39mW1) \u001b[38;5;241m+\u001b[39m \u001b[38;5;28mself\u001b[39m\u001b[38;5;241m.\u001b[39mb1\n\u001b[0;32m---> 27\u001b[0m     \u001b[38;5;28mself\u001b[39m\u001b[38;5;241m.\u001b[39ma1 \u001b[38;5;241m=\u001b[39m \u001b[38;5;28;43mself\u001b[39;49m\u001b[38;5;241;43m.\u001b[39;49m\u001b[43mReLU\u001b[49m\u001b[43m(\u001b[49m\u001b[38;5;28;43mself\u001b[39;49m\u001b[38;5;241;43m.\u001b[39;49m\u001b[43mz1\u001b[49m\u001b[43m)\u001b[49m\n\u001b[1;32m     28\u001b[0m     \u001b[38;5;66;03m# Forward pass through the second layer\u001b[39;00m\n\u001b[1;32m     30\u001b[0m     \u001b[38;5;28mself\u001b[39m\u001b[38;5;241m.\u001b[39mz2 \u001b[38;5;241m=\u001b[39m np\u001b[38;5;241m.\u001b[39mdot(\u001b[38;5;28mself\u001b[39m\u001b[38;5;241m.\u001b[39ma1, \u001b[38;5;28mself\u001b[39m\u001b[38;5;241m.\u001b[39mW2) \u001b[38;5;241m+\u001b[39m \u001b[38;5;28mself\u001b[39m\u001b[38;5;241m.\u001b[39mb2\n",
      "\u001b[0;31mTypeError\u001b[0m: ReLU() takes 1 positional argument but 2 were given"
     ]
    }
   ],
   "source": [
    "from sklearn.datasets import make_blobs\n",
    "from sklearn.model_selection import train_test_split\n",
    "import matplotlib.pyplot as plt\n",
    "\n",
    "X, y = make_blobs(n_samples=100, centers=2, n_features=2, random_state=0)\n",
    "\n",
    "plt.scatter(X[:, 0], X[:, 1], c=y, cmap='viridis')\n",
    "plt.xlabel(\"Feature 1\")\n",
    "plt.ylabel(\"Feature 2\")\n",
    "plt.title(\"Сlassification\")\n",
    "plt.show()\n",
    "\n",
    "X_train, X_test, y_train, y_test = train_test_split(X, y, test_size=0.2, random_state=42)\n",
    "\n",
    "model = TwoLayerNeuralNetwork(2, 5, 1)\n",
    "# Train the neural network\n",
    "model.fit(X_train, y_train, num_epochs=1000, learning_rate=0.1)\n",
    "\n",
    "# Make predictions on the test set\n",
    "y_pred = np.round(model.forward(X_test))\n"
   ]
  }
 ],
 "metadata": {
  "kernelspec": {
   "display_name": "Python 3",
   "language": "python",
   "name": "python3"
  },
  "language_info": {
   "codemirror_mode": {
    "name": "ipython",
    "version": 3
   },
   "file_extension": ".py",
   "mimetype": "text/x-python",
   "name": "python",
   "nbconvert_exporter": "python",
   "pygments_lexer": "ipython3",
   "version": "3.8.18"
  }
 },
 "nbformat": 4,
 "nbformat_minor": 5
}
